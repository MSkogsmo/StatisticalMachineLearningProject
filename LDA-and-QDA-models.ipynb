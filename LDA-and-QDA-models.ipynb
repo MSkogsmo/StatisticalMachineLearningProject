{
 "cells": [
  {
   "cell_type": "code",
   "execution_count": 13,
   "metadata": {},
   "outputs": [],
   "source": [
    "import pandas as pd\n",
    "import numpy as np\n",
    "import matplotlib.pyplot as plt\n",
    "import sklearn.preprocessing as skl_pre\n",
    "import sklearn.linear_model as skl_lm\n",
    "import sklearn.discriminant_analysis as skl_da\n",
    "import sklearn.neighbors as skl_nb\n",
    "plt.style.use('seaborn-white')"
   ]
  },
  {
   "cell_type": "code",
   "execution_count": 14,
   "metadata": {},
   "outputs": [],
   "source": [
    "#Importing songs for project\n",
    "#songs to classify\n",
    "songs_to_classify = pd.read_csv('http://www.it.uu.se/edu/course/homepage/sml/project/songs_to_classify.csv')\n",
    "#training data\n",
    "training_data = pd.read_csv('http://www.it.uu.se/edu/course/homepage/sml/project/training_data.csv')"
   ]
  },
  {
   "cell_type": "code",
   "execution_count": 15,
   "metadata": {},
   "outputs": [],
   "source": [
    "#Divide set into training and testing randomly, sampling indices for training\n",
    "# Size of test set\n",
    "size = 300\n",
    "\n",
    "trainI = np.random.choice(training_data.shape[0], size, replace=False)\n",
    "trainIndex = training_data.index.isin(trainI)\n",
    "train = training_data.iloc[trainIndex] # training set\n",
    "test = training_data.iloc[~trainIndex] # test set"
   ]
  },
  {
   "cell_type": "code",
   "execution_count": 32,
   "metadata": {},
   "outputs": [
    {
     "name": "stderr",
     "output_type": "stream",
     "text": [
      "C:\\Anaconda3\\lib\\site-packages\\sklearn\\discriminant_analysis.py:388: UserWarning: Variables are collinear.\n",
      "  warnings.warn(\"Variables are collinear.\")\n"
     ]
    },
    {
     "data": {
      "text/plain": [
       "LinearDiscriminantAnalysis(n_components=None, priors=None, shrinkage=None,\n",
       "              solver='svd', store_covariance=False, tol=0.0001)"
      ]
     },
     "execution_count": 32,
     "metadata": {},
     "output_type": "execute_result"
    }
   ],
   "source": [
    "#Use LDA model\n",
    "model_lda = skl_da.LinearDiscriminantAnalysis()\n",
    "X_train = train[['acousticness','danceability', 'loudness','instrumentalness','key','liveness',\n",
    "                'mode','speechiness','tempo','time_signature','valence','label']]\n",
    "Y_train = train['label']\n",
    "X_test = test[['acousticness','danceability', 'loudness','instrumentalness','key','liveness',\n",
    "                'mode','speechiness','tempo','time_signature','valence','label']]\n",
    "Y_test = test['label']\n",
    "model_lda.fit(X_train, Y_train)\n"
   ]
  },
  {
   "cell_type": "code",
   "execution_count": 33,
   "metadata": {},
   "outputs": [
    {
     "name": "stdout",
     "output_type": "stream",
     "text": [
      "The class order in the model:\n",
      "[0 1]\n",
      "Examples of predicted probablities for the above classes:\n"
     ]
    },
    {
     "data": {
      "text/plain": [
       "array([[0.08165259, 0.91834741],\n",
       "       [0.31237413, 0.68762587],\n",
       "       [0.14363712, 0.85636288],\n",
       "       [0.17136707, 0.82863293],\n",
       "       [0.07486996, 0.92513004]])"
      ]
     },
     "execution_count": 33,
     "metadata": {},
     "output_type": "execute_result"
    }
   ],
   "source": [
    "predict_prob_lda = model_lda.predict_proba(X_test)\n",
    "print('The class order in the model:')\n",
    "print(model_lda.classes_)\n",
    "print('Examples of predicted probablities for the above classes:')\n",
    "predict_prob_lda[0:5] # inspect the first 5 predictions"
   ]
  },
  {
   "cell_type": "code",
   "execution_count": 34,
   "metadata": {},
   "outputs": [
    {
     "name": "stdout",
     "output_type": "stream",
     "text": [
      "[1 1 1 1 1]\n",
      "label    0    1\n",
      "row_0          \n",
      "0      119   26\n",
      "1       60  245\n"
     ]
    },
    {
     "data": {
      "text/plain": [
       "0.8088888888888889"
      ]
     },
     "execution_count": 34,
     "metadata": {},
     "output_type": "execute_result"
    }
   ],
   "source": [
    "prediction = np.empty(len(X_test), dtype=object)\n",
    "prediction = np.where(predict_prob_lda[:, 0]>=0.5, 0, 1)\n",
    "print(prediction[0:5]) # Inspect the first 5 predictions after labeling.\n",
    "# Confusion matrix\n",
    "print(pd.crosstab(prediction, Y_test))\n",
    "# Accuracy\n",
    "np.mean(prediction == Y_test)"
   ]
  },
  {
   "cell_type": "code",
   "execution_count": 7,
   "metadata": {},
   "outputs": [
    {
     "ename": "NameError",
     "evalue": "name 'X' is not defined",
     "output_type": "error",
     "traceback": [
      "\u001b[1;31m---------------------------------------------------------------------------\u001b[0m",
      "\u001b[1;31mNameError\u001b[0m                                 Traceback (most recent call last)",
      "\u001b[1;32m<ipython-input-7-d0d79b4ecefa>\u001b[0m in \u001b[0;36m<module>\u001b[1;34m\u001b[0m\n\u001b[0;32m      6\u001b[0m \u001b[0mlw\u001b[0m \u001b[1;33m=\u001b[0m \u001b[1;36m2\u001b[0m\u001b[1;33m\u001b[0m\u001b[1;33m\u001b[0m\u001b[0m\n\u001b[0;32m      7\u001b[0m \u001b[1;33m\u001b[0m\u001b[0m\n\u001b[1;32m----> 8\u001b[1;33m \u001b[0mX_r2\u001b[0m \u001b[1;33m=\u001b[0m \u001b[0mmodel_lda\u001b[0m\u001b[1;33m.\u001b[0m\u001b[0mfit\u001b[0m\u001b[1;33m(\u001b[0m\u001b[0mX\u001b[0m\u001b[1;33m,\u001b[0m \u001b[0my\u001b[0m\u001b[1;33m)\u001b[0m\u001b[1;33m.\u001b[0m\u001b[0mtransform\u001b[0m\u001b[1;33m(\u001b[0m\u001b[0mX\u001b[0m\u001b[1;33m)\u001b[0m\u001b[1;33m\u001b[0m\u001b[1;33m\u001b[0m\u001b[0m\n\u001b[0m\u001b[0;32m      9\u001b[0m \u001b[1;33m\u001b[0m\u001b[0m\n\u001b[0;32m     10\u001b[0m \u001b[0mplt\u001b[0m\u001b[1;33m.\u001b[0m\u001b[0mfigure\u001b[0m\u001b[1;33m(\u001b[0m\u001b[1;33m)\u001b[0m\u001b[1;33m\u001b[0m\u001b[1;33m\u001b[0m\u001b[0m\n",
      "\u001b[1;31mNameError\u001b[0m: name 'X' is not defined"
     ]
    }
   ],
   "source": [
    "#try to plot LDA\n",
    "#categories = ['acousticness','danceability','duration', 'loudness','instrumentalness','key','liveness',\n",
    "#                'mode','speechiness','tempo','time_signature','valence','label']\n",
    "#lw = 2\n",
    "\n",
    "#X_r2 = model_lda.fit(X, y).transform(X)\n",
    "\n",
    "plt.figure()\n",
    "for color, i, target_name in zip(colors, [0, 1, 2], target_names):\n",
    "    plt.scatter(X_r2[y == i, 0], X_r2[y == i, 1], alpha=.8, color=color,\n",
    "                label=target_name)\n",
    "plt.legend(loc='best', shadow=False, scatterpoints=1)\n",
    "plt.title('LDA of test dataset')\n",
    "\n",
    "plt.show()"
   ]
  },
  {
   "cell_type": "code",
   "execution_count": 35,
   "metadata": {},
   "outputs": [
    {
     "name": "stderr",
     "output_type": "stream",
     "text": [
      "C:\\Anaconda3\\lib\\site-packages\\sklearn\\discriminant_analysis.py:692: UserWarning: Variables are collinear\n",
      "  warnings.warn(\"Variables are collinear\")\n"
     ]
    },
    {
     "data": {
      "text/plain": [
       "QuadraticDiscriminantAnalysis(priors=None, reg_param=0.0,\n",
       "               store_covariance=False, store_covariances=None, tol=0.0001)"
      ]
     },
     "execution_count": 35,
     "metadata": {},
     "output_type": "execute_result"
    }
   ],
   "source": [
    "#use of QDA\n",
    "model_qda = skl_da.QuadraticDiscriminantAnalysis()\n",
    "model_qda.fit(X_train, Y_train)"
   ]
  },
  {
   "cell_type": "code",
   "execution_count": 37,
   "metadata": {},
   "outputs": [
    {
     "name": "stdout",
     "output_type": "stream",
     "text": [
      "The class order in the model:\n",
      "[0 1]\n",
      "Examples of predicted probablities for the above classes:\n"
     ]
    },
    {
     "name": "stderr",
     "output_type": "stream",
     "text": [
      "C:\\Anaconda3\\lib\\site-packages\\sklearn\\discriminant_analysis.py:716: RuntimeWarning: divide by zero encountered in power\n",
      "  X2 = np.dot(Xm, R * (S ** (-0.5)))\n",
      "C:\\Anaconda3\\lib\\site-packages\\sklearn\\discriminant_analysis.py:716: RuntimeWarning: invalid value encountered in multiply\n",
      "  X2 = np.dot(Xm, R * (S ** (-0.5)))\n",
      "C:\\Anaconda3\\lib\\site-packages\\sklearn\\discriminant_analysis.py:719: RuntimeWarning: divide by zero encountered in log\n",
      "  u = np.asarray([np.sum(np.log(s)) for s in self.scalings_])\n",
      "C:\\Anaconda3\\lib\\site-packages\\numpy\\core\\_methods.py:28: RuntimeWarning: invalid value encountered in reduce\n",
      "  return umr_maximum(a, axis, None, out, keepdims, initial)\n"
     ]
    },
    {
     "data": {
      "text/plain": [
       "array([[nan, nan],\n",
       "       [nan, nan],\n",
       "       [nan, nan],\n",
       "       [nan, nan],\n",
       "       [nan, nan]])"
      ]
     },
     "execution_count": 37,
     "metadata": {},
     "output_type": "execute_result"
    }
   ],
   "source": [
    "predict_prob_qda = model_qda.predict_proba(X_test)\n",
    "print('The class order in the model:')\n",
    "print(model_qda.classes_)\n",
    "print('Examples of predicted probablities for the above classes:')\n",
    "predict_prob[0:5] # inspect the first 5 predictions"
   ]
  },
  {
   "cell_type": "code",
   "execution_count": 25,
   "metadata": {},
   "outputs": [
    {
     "name": "stdout",
     "output_type": "stream",
     "text": [
      "[1 1 1 1 1]\n",
      "label    0    1\n",
      "row_0          \n",
      "1      179  271\n"
     ]
    },
    {
     "name": "stderr",
     "output_type": "stream",
     "text": [
      "C:\\Anaconda3\\lib\\site-packages\\ipykernel_launcher.py:2: RuntimeWarning: invalid value encountered in greater_equal\n",
      "  \n"
     ]
    },
    {
     "data": {
      "text/plain": [
       "0.6022222222222222"
      ]
     },
     "execution_count": 25,
     "metadata": {},
     "output_type": "execute_result"
    }
   ],
   "source": [
    "prediction = np.empty(len(X_test), dtype=object)\n",
    "prediction = np.where(predict_prob_qda[:, 0]>=0.5, 0, 1)\n",
    "print(prediction[0:5]) # Inspect the first 5 predictions after labeling.\n",
    "# Confusion matrix\n",
    "print(pd.crosstab(prediction, Y_test))\n",
    "# Accuracy\n",
    "np.mean(prediction == Y_test)\n"
   ]
  },
  {
   "cell_type": "code",
   "execution_count": null,
   "metadata": {},
   "outputs": [],
   "source": []
  },
  {
   "cell_type": "code",
   "execution_count": null,
   "metadata": {},
   "outputs": [],
   "source": []
  },
  {
   "cell_type": "code",
   "execution_count": null,
   "metadata": {},
   "outputs": [],
   "source": []
  }
 ],
 "metadata": {
  "kernelspec": {
   "display_name": "Python 3",
   "language": "python",
   "name": "python3"
  },
  "language_info": {
   "codemirror_mode": {
    "name": "ipython",
    "version": 3
   },
   "file_extension": ".py",
   "mimetype": "text/x-python",
   "name": "python",
   "nbconvert_exporter": "python",
   "pygments_lexer": "ipython3",
   "version": "3.7.1"
  }
 },
 "nbformat": 4,
 "nbformat_minor": 2
}
